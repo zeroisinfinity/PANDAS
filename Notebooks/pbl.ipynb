{
 "cells": [
  {
   "cell_type": "code",
   "execution_count": 17,
   "id": "c711e932-1722-4d2f-8cc3-6a138377c20b",
   "metadata": {},
   "outputs": [
    {
     "data": {
      "text/plain": [
       "9.239942073822021"
      ]
     },
     "execution_count": 17,
     "metadata": {},
     "output_type": "execute_result"
    }
   ],
   "source": [
    "\n",
    "#!pip3 install SQLALchemy\n",
    "\n",
    "import pandas as pd\n",
    "from sqlalchemy import create_engine\n",
    "\n",
    "\n",
    "\n",
    "#cat config.json\n",
    "\n",
    "import json as js\n",
    "with open('config.json') as fp:\n",
    "    cred = js.load(fp)\n",
    "\n",
    "connection_str = 'mysql+pymysql://{}:{}@{}:{}/{}'.format(cred['username'],cred['password'],cred['host'],cred['port'],cred['Database'])\n",
    "\n",
    "con = create_engine(connection_str)\n",
    "\n",
    "sql_df = pd.read_sql('select * from exam;',con)\n",
    "sql_df\n",
    "\n",
    "sql_df4 = pd.read_sql('exam',con)\n",
    "sql_df4\n",
    "\n",
    "sql_df2 = pd.read_sql_table('exam',con)\n",
    "sql_df2\n",
    "\n",
    "sql_df3 = pd.read_sql_query(\"select * from exam;\",con)\n",
    "sql_df3\n",
    "\n",
    "sql_df5 = pd.read_csv('Amazon Sale Report.csv',low_memory=False)\n",
    "\n",
    "\n",
    "#sql_df5.to_sql(tablename,con)\n",
    "\n",
    "sql_df5.rename({\"Sales Channel \":\"Sales-channel\"},axis = 1,inplace=True)\n",
    " \n",
    "\n",
    "\n",
    "\n",
    "## !sudo mysql -u root -p\n",
    "\n",
    "\n",
    "#sudo mysql -u root -p\n",
    "\n",
    "\n",
    "\n",
    "import time\n",
    "s = time.time()\n",
    "sql_df5.to_sql(name = 'pbl_dataset',\n",
    "               con = con,\n",
    "               if_exists = 'fail',\n",
    "               index = True\n",
    "              )\n",
    "e = time.time()\n",
    "e - s"
   ]
  }
 ],
 "metadata": {
  "kernelspec": {
   "display_name": "Python [conda env:base] *",
   "language": "python",
   "name": "conda-base-py"
  },
  "language_info": {
   "codemirror_mode": {
    "name": "ipython",
    "version": 3
   },
   "file_extension": ".py",
   "mimetype": "text/x-python",
   "name": "python",
   "nbconvert_exporter": "python",
   "pygments_lexer": "ipython3",
   "version": "3.12.2"
  }
 },
 "nbformat": 4,
 "nbformat_minor": 5
}
